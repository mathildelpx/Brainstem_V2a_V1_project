{
 "cells": [
  {
   "cell_type": "code",
   "execution_count": 37,
   "metadata": {},
   "outputs": [],
   "source": [
    "import pandas as pd\n",
    "import numpy as np\n",
    "import matplotlib.pyplot as plt"
   ]
  },
  {
   "cell_type": "code",
   "execution_count": 66,
   "metadata": {},
   "outputs": [],
   "source": [
    "class Bout:\n",
    "    \"\"\"Class to define each bout as an object.\n",
    "    Characterised by attributes as different properties in the df bouts DataFrame.\n",
    "    The method plot allows you to plot the tail angle for this bout.\"\"\"\n",
    "    def __init__(self, df_bouts, df_frames, number):\n",
    "        self.num = number\n",
    "        self.cat = df_bouts.category[number]\n",
    "        self.num_osc = df_bouts.Number_Osc[number]\n",
    "        self.duration = df_bouts.Bout_Duration[number]\n",
    "        self.max = df_bouts.Max_Bend_Amp[number]\n",
    "        self.start = df_bouts.BoutStartVideo[number]\n",
    "        self.end = df_bouts.BoutEndVideo[number]\n",
    "        self.ta = df_frames.Tail_angle[self.start:self.end]\n",
    "        self.bends = df_frames.Bend_Amplitude[self.start:self.end]\n",
    "\n",
    "    def plot(cls, fq=None):\n",
    "        if fq:\n",
    "            time_indices = np.array(range(cls.start, cls.end))/fq\n",
    "            plt.plot(time_indices,cls.ta)\n",
    "            plt.plot(time_indices-(1/fq), cls.bends, 'rx', markersize=1.5)\n",
    "            plt.xlabel('Time [s]')\n",
    "        else:\n",
    "            plt.plot(df_frames.cls.ta)\n",
    "            plt.plot(df_frames.cls.bends, 'rx', markersize=1.5)\n",
    "            plt.xlabel('Frame')\n",
    "        plt.ylim(-50, 50)\n",
    "        plt.title('Tail angle over time for bout ' + str(cls.num))\n",
    "        plt.ylabel('Tail angle [°]')\n",
    "        \n",
    "        \n",
    "class Exp:\n",
    "    \"\"\"Class for the experiment of one fish\"\"\"\n",
    "    def __init__(self, log, csv_file, fishlabel):\n",
    "        self.date = log.date\n",
    "        \n",
    "        NPlanes = len(os.listdir(log.path))\n",
    "        print('Nplanes is ', NPlanes)\n",
    "        a = str(input('Ok ? press anything for no'))\n",
    "        if a:\n",
    "            NPlanes = str(input('enter NPlanes:'))\n",
    "        self.NPlanes = NPlanes\n",
    "        \n",
    "        fps_beh = csv_file['fq'][fishlabel]\n",
    "        print('fps behavior is ', fps_beh)\n",
    "        a = str(input('Ok ? press anything for no'))\n",
    "        if a:\n",
    "            fps_beh = str(input('enter camera speed for behavior:'))\n",
    "        self.fps_beh = fps_beh\n",
    "        \n",
    "        fps_2p = csv_file['fq_2p'][fishlabel]\n",
    "        print('fps 2p is ', fps_2p)\n",
    "        a = str(input('Ok ? press anything for no'))\n",
    "        if a:\n",
    "            fps_2p = str(input('enter camera speed for 2p:'))\n",
    "        self.fps_2p = fps_2p\n",
    "        \n",
    "        "
   ]
  },
  {
   "cell_type": "code",
   "execution_count": 67,
   "metadata": {},
   "outputs": [],
   "source": [
    "df_bouts = pd.read_pickle(\"/network/lustre/iss01/wyart/analyses/2pehaviour/ML_pipeline_output/dataset/190104_F2/190104_F2_analyzed_bout_dataset_7\")\n",
    "bouts = pd.Series(range(len(df_bouts)), dtype=object)\n",
    "df_frames = pd.read_pickle(\"/network/lustre/iss01/wyart/analyses/2pehaviour/ML_pipeline_output/dataset/190104_F2/190104_F2_analyzed_frame_dataset_7\")"
   ]
  },
  {
   "cell_type": "code",
   "execution_count": 68,
   "metadata": {},
   "outputs": [],
   "source": [
    "bouts = pd.Series([Bout(df_bouts, df_frames, i) for i in df_bouts.index])"
   ]
  },
  {
   "cell_type": "code",
   "execution_count": 70,
   "metadata": {},
   "outputs": [
    {
     "data": {
      "image/png": "[encoded data removed]",
      "text/plain": [
       "<Figure size 432x288 with 1 Axes>"
      ]
     },
     "metadata": {
      "needs_background": "light"
     },
     "output_type": "display_data"
    }
   ],
   "source": [
    "bouts[1].plot(200)"
   ]
  },
  {
   "cell_type": "code",
   "execution_count": 71,
   "metadata": {},
   "outputs": [
    {
     "data": {
      "text/plain": [
       "6568    0.592180\n",
       "6569    0.598465\n",
       "6570    0.565296\n",
       "6571    0.672426\n",
       "6572    0.648940\n",
       "          ...   \n",
       "6641    7.112673\n",
       "6642    6.822799\n",
       "6643    6.422346\n",
       "6644    6.048734\n",
       "6645    5.876269\n",
       "Name: Tail_angle, Length: 78, dtype: float64"
      ]
     },
     "execution_count": 71,
     "metadata": {},
     "output_type": "execute_result"
    }
   ],
   "source": [
    "bouts[1].ta"
   ]
  },
  {
   "cell_type": "code",
   "execution_count": 99,
   "metadata": {},
   "outputs": [],
   "source": [
    "import os, datetime\n",
    "\n",
    "\n",
    "class Exp:\n",
    "    \"\"\"Class for the experiment of one fish\"\"\"\n",
    "    def __init__(self, path, fishlabel, csv_path):\n",
    "        self.date = datetime.datetime.fromtimestamp(os.path.getmtime(path))\n",
    "        \n",
    "        nPlanes = 0\n",
    "        for i in os.listdir(path):\n",
    "            if os.path.isdir(os.path.join(path, i)):\n",
    "                nPlanes += 1\n",
    "        print('Nplanes is ', nPlanes)\n",
    "        a = str(input('Ok ? press anything for no'))\n",
    "        if a:\n",
    "            nPlanes = str(input('enter NPlanes:'))\n",
    "        self.nPlanes = nPlanes\n",
    "        \n",
    "        csv_file = pd.read_csv(csv_path)\n",
    "        fishinfo = csv_summary[csv_summary['Fishlabel'] == fishlabel]\n",
    "        fps_beh = fishinfo['FrameRateCamera']\n",
    "        print('fps behavior is ', fps_beh)\n",
    "        a = str(input('Ok ? press anything for no'))\n",
    "        if a:\n",
    "            fps_beh = str(input('enter camera speed for behavior:'))\n",
    "        self.fps_beh = float(fps_beh)\n",
    "        \n",
    "        fps_2p = fishinfo['FrameRate2P']\n",
    "        print('fps 2p is ', fps_2p)\n",
    "        a = str(input('Ok ? press anything for no'))\n",
    "        if a:\n",
    "            fps_2p = str(input('enter camera speed for 2p:'))\n",
    "        self.fps_2p = float(fps_2p)"
   ]
  },
  {
   "cell_type": "code",
   "execution_count": 100,
   "metadata": {},
   "outputs": [
    {
     "name": "stdout",
     "output_type": "stream",
     "text": [
      "2020-04-14 12:55:04\n"
     ]
    }
   ],
   "source": [
    "path = '/network/lustre/iss01/wyart/rawdata/2pehaviour/190104_F2/Calcium_imaging/'\n",
    "import os\n",
    "import datetime\n",
    "print(datetime.datetime.fromtimestamp(os.path.getmtime(path)))"
   ]
  },
  {
   "cell_type": "code",
   "execution_count": 101,
   "metadata": {},
   "outputs": [],
   "source": [
    "csv_summary = pd.read_csv('/network/lustre/iss01/wyart/analyses/2pehaviour/summaryData_MartinMathilde.csv')"
   ]
  },
  {
   "cell_type": "code",
   "execution_count": 102,
   "metadata": {},
   "outputs": [],
   "source": [
    "fishlabel = '190104_F2'\n",
    "fishinfo = csv_summary[csv_summary['Fishlabel'] == fishlabel]"
   ]
  },
  {
   "cell_type": "code",
   "execution_count": 103,
   "metadata": {},
   "outputs": [
    {
     "name": "stdout",
     "output_type": "stream",
     "text": [
      "Nplanes is  14\n",
      "Ok ? press anything for no\n",
      "fps behavior is  12    200.0\n",
      "Name: FrameRateCamera, dtype: float64\n",
      "Ok ? press anything for no\n",
      "fps 2p is  12    4.2\n",
      "Name: FrameRate2P, dtype: object\n",
      "Ok ? press anything for no\n"
     ]
    }
   ],
   "source": [
    "aaa = Exp(path, fishlabel, '/network/lustre/iss01/wyart/analyses/2pehaviour/summaryData_MartinMathilde.csv')"
   ]
  },
  {
   "cell_type": "code",
   "execution_count": 104,
   "metadata": {},
   "outputs": [
    {
     "name": "stdout",
     "output_type": "stream",
     "text": [
      "4.2\n"
     ]
    }
   ],
   "source": [
    "print(aaa.fps_2p)"
   ]
  },
  {
   "cell_type": "code",
   "execution_count": null,
   "metadata": {},
   "outputs": [],
   "source": []
  }
 ],
 "metadata": {
  "kernelspec": {
   "display_name": "Python 3",
   "language": "python",
   "name": "python3"
  },
  "language_info": {
   "codemirror_mode": {
    "name": "ipython",
    "version": 3
   },
   "file_extension": ".py",
   "mimetype": "text/x-python",
   "name": "python",
   "nbconvert_exporter": "python",
   "pygments_lexer": "ipython3",
   "version": "3.7.4"
  }
 },
 "nbformat": 4,
 "nbformat_minor": 2
}
